{
 "cells": [
  {
   "cell_type": "code",
   "execution_count": 1,
   "metadata": {},
   "outputs": [],
   "source": [
    "#Shanglin Li \n",
    "#Hashed Name:  8afd6878a54824b8adaba8caf6c1f8bc7414708d"
   ]
  },
  {
   "cell_type": "code",
   "execution_count": 2,
   "metadata": {},
   "outputs": [],
   "source": [
    "import sys\n",
    "sys.path.append('/Users/ansel_li/Fintech545/public/')"
   ]
  },
  {
   "cell_type": "code",
   "execution_count": 3,
   "metadata": {},
   "outputs": [],
   "source": [
    "import numpy as np\n",
    "import pandas as pd\n",
    "from risk_mgmt import calc_return, PSD_fix, gbsm, VaR, risk"
   ]
  },
  {
   "attachments": {},
   "cell_type": "markdown",
   "metadata": {},
   "source": [
    "# Problem1"
   ]
  },
  {
   "cell_type": "code",
   "execution_count": 4,
   "metadata": {},
   "outputs": [
    {
     "data": {
      "text/html": [
       "<div>\n",
       "<style scoped>\n",
       "    .dataframe tbody tr th:only-of-type {\n",
       "        vertical-align: middle;\n",
       "    }\n",
       "\n",
       "    .dataframe tbody tr th {\n",
       "        vertical-align: top;\n",
       "    }\n",
       "\n",
       "    .dataframe thead th {\n",
       "        text-align: right;\n",
       "    }\n",
       "</style>\n",
       "<table border=\"1\" class=\"dataframe\">\n",
       "  <thead>\n",
       "    <tr style=\"text-align: right;\">\n",
       "      <th></th>\n",
       "      <th>Price1</th>\n",
       "      <th>Price2</th>\n",
       "      <th>Price3</th>\n",
       "    </tr>\n",
       "  </thead>\n",
       "  <tbody>\n",
       "    <tr>\n",
       "      <th>1</th>\n",
       "      <td>-0.035169</td>\n",
       "      <td>-0.000252</td>\n",
       "      <td>0.018486</td>\n",
       "    </tr>\n",
       "    <tr>\n",
       "      <th>2</th>\n",
       "      <td>-0.002239</td>\n",
       "      <td>-0.001236</td>\n",
       "      <td>0.000946</td>\n",
       "    </tr>\n",
       "    <tr>\n",
       "      <th>3</th>\n",
       "      <td>NaN</td>\n",
       "      <td>NaN</td>\n",
       "      <td>-0.026082</td>\n",
       "    </tr>\n",
       "    <tr>\n",
       "      <th>4</th>\n",
       "      <td>NaN</td>\n",
       "      <td>NaN</td>\n",
       "      <td>0.007248</td>\n",
       "    </tr>\n",
       "    <tr>\n",
       "      <th>5</th>\n",
       "      <td>0.049850</td>\n",
       "      <td>-0.003192</td>\n",
       "      <td>0.009794</td>\n",
       "    </tr>\n",
       "  </tbody>\n",
       "</table>\n",
       "</div>"
      ],
      "text/plain": [
       "     Price1    Price2    Price3\n",
       "1 -0.035169 -0.000252  0.018486\n",
       "2 -0.002239 -0.001236  0.000946\n",
       "3       NaN       NaN -0.026082\n",
       "4       NaN       NaN  0.007248\n",
       "5  0.049850 -0.003192  0.009794"
      ]
     },
     "execution_count": 4,
     "metadata": {},
     "output_type": "execute_result"
    }
   ],
   "source": [
    "# Log return\n",
    "p1_data = pd.read_csv('problem1.csv')\n",
    "log_return = calc_return.return_calculate(p1_data,'LOG')\n",
    "log_return = log_return[['Price1','Price2','Price3']]\n",
    "log_return.head()"
   ]
  },
  {
   "cell_type": "code",
   "execution_count": 5,
   "metadata": {},
   "outputs": [
    {
     "data": {
      "text/html": [
       "<div>\n",
       "<style scoped>\n",
       "    .dataframe tbody tr th:only-of-type {\n",
       "        vertical-align: middle;\n",
       "    }\n",
       "\n",
       "    .dataframe tbody tr th {\n",
       "        vertical-align: top;\n",
       "    }\n",
       "\n",
       "    .dataframe thead th {\n",
       "        text-align: right;\n",
       "    }\n",
       "</style>\n",
       "<table border=\"1\" class=\"dataframe\">\n",
       "  <thead>\n",
       "    <tr style=\"text-align: right;\">\n",
       "      <th></th>\n",
       "      <th>Price1</th>\n",
       "      <th>Price2</th>\n",
       "      <th>Price3</th>\n",
       "    </tr>\n",
       "  </thead>\n",
       "  <tbody>\n",
       "    <tr>\n",
       "      <th>Price1</th>\n",
       "      <td>0.000972</td>\n",
       "      <td>0.000029</td>\n",
       "      <td>0.000085</td>\n",
       "    </tr>\n",
       "    <tr>\n",
       "      <th>Price2</th>\n",
       "      <td>0.000029</td>\n",
       "      <td>0.000065</td>\n",
       "      <td>0.000018</td>\n",
       "    </tr>\n",
       "    <tr>\n",
       "      <th>Price3</th>\n",
       "      <td>0.000085</td>\n",
       "      <td>0.000018</td>\n",
       "      <td>0.000138</td>\n",
       "    </tr>\n",
       "  </tbody>\n",
       "</table>\n",
       "</div>"
      ],
      "text/plain": [
       "          Price1    Price2    Price3\n",
       "Price1  0.000972  0.000029  0.000085\n",
       "Price2  0.000029  0.000065  0.000018\n",
       "Price3  0.000085  0.000018  0.000138"
      ]
     },
     "execution_count": 5,
     "metadata": {},
     "output_type": "execute_result"
    }
   ],
   "source": [
    "# Pairwise covariance\n",
    "covar = log_return.cov()\n",
    "covar"
   ]
  },
  {
   "cell_type": "code",
   "execution_count": 6,
   "metadata": {},
   "outputs": [
    {
     "name": "stdout",
     "output_type": "stream",
     "text": [
      "True\n"
     ]
    }
   ],
   "source": [
    "# PSD fix\n",
    "print(PSD_fix.is_psd(covar))"
   ]
  },
  {
   "attachments": {},
   "cell_type": "markdown",
   "metadata": {},
   "source": [
    "#### d. Discuss when you might see data like this in the real world\n",
    "\n",
    "For a data with missing values, we can\n",
    "1. Omit it and calculate the pairwise data directly. But it may result in some imprecision when there are too much of them missing \n",
    "2. Fill the missing data with randomly generated numbers with certain algorithm like mean value between the missing values, or using random normal generate with data's mean and standard deviation."
   ]
  },
  {
   "attachments": {},
   "cell_type": "markdown",
   "metadata": {},
   "source": [
    "# Problem 2"
   ]
  },
  {
   "cell_type": "code",
   "execution_count": 7,
   "metadata": {},
   "outputs": [
    {
     "data": {
      "text/html": [
       "<div>\n",
       "<style scoped>\n",
       "    .dataframe tbody tr th:only-of-type {\n",
       "        vertical-align: middle;\n",
       "    }\n",
       "\n",
       "    .dataframe tbody tr th {\n",
       "        vertical-align: top;\n",
       "    }\n",
       "\n",
       "    .dataframe thead th {\n",
       "        text-align: right;\n",
       "    }\n",
       "</style>\n",
       "<table border=\"1\" class=\"dataframe\">\n",
       "  <thead>\n",
       "    <tr style=\"text-align: right;\">\n",
       "      <th></th>\n",
       "      <th>Underlying</th>\n",
       "      <th>Strike</th>\n",
       "      <th>IV</th>\n",
       "      <th>TTM</th>\n",
       "      <th>RF</th>\n",
       "      <th>DivRate</th>\n",
       "    </tr>\n",
       "  </thead>\n",
       "  <tbody>\n",
       "    <tr>\n",
       "      <th>0</th>\n",
       "      <td>107.669823</td>\n",
       "      <td>102.31725</td>\n",
       "      <td>0.2</td>\n",
       "      <td>142</td>\n",
       "      <td>0.045</td>\n",
       "      <td>0.052899</td>\n",
       "    </tr>\n",
       "  </tbody>\n",
       "</table>\n",
       "</div>"
      ],
      "text/plain": [
       "   Underlying     Strike   IV  TTM     RF   DivRate\n",
       "0  107.669823  102.31725  0.2  142  0.045  0.052899"
      ]
     },
     "execution_count": 7,
     "metadata": {},
     "output_type": "execute_result"
    }
   ],
   "source": [
    "# read the data\n",
    "p2_data = pd.read_csv('problem2.csv')\n",
    "p2_data"
   ]
  },
  {
   "cell_type": "code",
   "execution_count": 8,
   "metadata": {},
   "outputs": [],
   "source": [
    "# Read price info\n",
    "S = p2_data['Underlying'].values[0]\n",
    "K = p2_data['Strike'].values[0]\n",
    "sigma = p2_data['IV'].values[0]\n",
    "T = p2_data['TTM'].values[0]/255\n",
    "rf = p2_data['RF'].values[0]\n",
    "q = p2_data['DivRate'].values[0]"
   ]
  },
  {
   "cell_type": "code",
   "execution_count": 9,
   "metadata": {},
   "outputs": [
    {
     "name": "stdout",
     "output_type": "stream",
     "text": [
      "Call option price: 8.750112481033398\n",
      "Delta: 0.6316672417005217\n",
      "Gamma: 0.02236809662810111\n",
      "Vega: 28.879866718413588\n",
      "Rho: 33.000458844581445\n"
     ]
    }
   ],
   "source": [
    "# call function to find prices and greeks\n",
    "option_data = gbsm.gbsm_greeks(S,K,T,rf,q,sigma)\n",
    "Call_price = option_data['P']\n",
    "Delta = option_data['delta']\n",
    "Gamma = option_data['gamma']\n",
    "Vega = option_data['vega']\n",
    "Rho = option_data['rho']\n",
    "print(\"Call option price:\", Call_price)\n",
    "print(\"Delta:\", Delta)\n",
    "print('Gamma:', Gamma)\n",
    "print('Vega:', Vega)\n",
    "print('Rho:', Rho)"
   ]
  },
  {
   "cell_type": "code",
   "execution_count": 10,
   "metadata": {},
   "outputs": [
    {
     "name": "stdout",
     "output_type": "stream",
     "text": [
      "VaR: 0.3117809274622665\n",
      "ES: 0.39234749488272513\n"
     ]
    }
   ],
   "source": [
    "# monte carlo Normal simulation\n",
    "returns = np.random.normal(0, sigma, size=100)\n",
    "normVaR, normES = VaR.normal_var(returns, mean=0, alpha=0.05, nsamples=10000)\n",
    "print(\"VaR:\", normVaR)\n",
    "print(\"ES:\", normES)"
   ]
  },
  {
   "attachments": {},
   "cell_type": "markdown",
   "metadata": {},
   "source": [
    "#### h. This portfolio’s payoff structure most closely resembles what?\n",
    "A: It is like a covered call"
   ]
  },
  {
   "attachments": {},
   "cell_type": "markdown",
   "metadata": {},
   "source": [
    "# Problem 3"
   ]
  },
  {
   "cell_type": "code",
   "execution_count": 11,
   "metadata": {},
   "outputs": [
    {
     "data": {
      "text/plain": [
       "array([0.10966427, 0.12420111, 0.10710191])"
      ]
     },
     "execution_count": 11,
     "metadata": {},
     "output_type": "execute_result"
    }
   ],
   "source": [
    "p3_covar = pd.read_csv('problem3_cov.csv')\n",
    "ER_data = pd.read_csv('problem3_ER.csv')\n",
    "rf = ER_data['RF'].values[0]\n",
    "er = ER_data[['Expected_Value_1','Expected_Value_2','Expected_Value_3']].values[0]\n",
    "er"
   ]
  },
  {
   "cell_type": "code",
   "execution_count": 12,
   "metadata": {},
   "outputs": [
    {
     "name": "stdout",
     "output_type": "stream",
     "text": [
      "Max sharpe ratio: 0.5218568887570968\n",
      "Max Sharpe portfolio weight: [0.3507 0.2856 0.3638]\n"
     ]
    }
   ],
   "source": [
    "# Calculate the max sharpe ratio and weights\n",
    "w_max_sharpe, sharpe = risk.max_sharpe_ratio_weights(p3_covar, er, rf, 'True')\n",
    "print(\"Max sharpe ratio:\", sharpe)\n",
    "print(\"Max Sharpe portfolio weight:\", w_max_sharpe)"
   ]
  },
  {
   "cell_type": "code",
   "execution_count": 13,
   "metadata": {},
   "outputs": [
    {
     "name": "stdout",
     "output_type": "stream",
     "text": [
      "Risk parity portfolio: [0.3499 0.2857 0.3644]\n"
     ]
    }
   ],
   "source": [
    "risk_parity_portfolio = risk.risk_parity_weights(p3_covar)\n",
    "print('Risk parity portfolio:',risk_parity_portfolio)"
   ]
  },
  {
   "cell_type": "code",
   "execution_count": 14,
   "metadata": {},
   "outputs": [],
   "source": [
    "risk_contribution_ms = risk.risk_contribution(w_max_sharpe, p3_covar)\n",
    "risk_contribution_risk_p = risk.risk_contribution(risk_parity_portfolio, p3_covar)"
   ]
  },
  {
   "cell_type": "code",
   "execution_count": 15,
   "metadata": {},
   "outputs": [
    {
     "data": {
      "text/plain": [
       "0   -0.000151\n",
       "1    0.000026\n",
       "2    0.000112\n",
       "dtype: float64"
      ]
     },
     "execution_count": 15,
     "metadata": {},
     "output_type": "execute_result"
    }
   ],
   "source": [
    "risk_contribution_risk_p - risk_contribution_ms"
   ]
  },
  {
   "attachments": {},
   "cell_type": "markdown",
   "metadata": {},
   "source": [
    "# Problem 4"
   ]
  },
  {
   "cell_type": "code",
   "execution_count": 16,
   "metadata": {},
   "outputs": [
    {
     "name": "stdout",
     "output_type": "stream",
     "text": [
      "The initial weight: [0.37782635 0.36330546 0.25886818]\n",
      "\n",
      "Each weights:\n",
      "[0.37322451 0.36249127 0.26428422]\n",
      "[0.37146542 0.35617318 0.2723614 ]\n",
      "[0.36805836 0.35487591 0.27706573]\n",
      "[0.37158255 0.34868393 0.27973351]\n",
      "[0.36486543 0.36154515 0.27358942]\n",
      "[0.36314882 0.36273412 0.27411706]\n",
      "[0.35964966 0.37607531 0.26427503]\n",
      "[0.32247843 0.40632223 0.27119934]\n",
      "[0.30039854 0.43209018 0.26751128]\n",
      "[0.34501985 0.41201558 0.24296458]\n",
      "[0.32642169 0.42464402 0.24893429]\n",
      "[0.2962571  0.41730728 0.28643562]\n",
      "[0.27838056 0.4334545  0.28816495]\n",
      "[0.28523851 0.44108855 0.27367294]\n",
      "[0.28239936 0.44396344 0.2736372 ]\n",
      "[0.25841339 0.45866093 0.28292569]\n",
      "[0.25227395 0.45940523 0.28832083]\n",
      "[0.25122589 0.4725095  0.27626461]\n",
      "[0.25576158 0.46172779 0.28251063]\n",
      "[0.25290569 0.47663443 0.27045987]\n",
      "\n",
      "                Value    Asset1    Asset2    Asset3  Portfolio\n",
      "0         TotalReturn -0.203172  0.561752  0.243720   0.190415\n",
      "1  Return Attribution -0.078657  0.202951  0.066121   0.190415\n",
      "2     Vol Attribution  0.009023  0.010447  0.005675   0.025145\n"
     ]
    }
   ],
   "source": [
    "stocks=['Asset1', 'Asset2', 'Asset3']\n",
    "portfolio_weights = pd.read_csv('problem4_startWeight.csv').values[0]\n",
    "p4_returns = pd.read_csv('problem4_returns.csv')\n",
    "print('The initial weight:', portfolio_weights)\n",
    "# Calculate portfolio return and updated weights for each day\n",
    "n = p4_returns.shape[0]\n",
    "m = len(stocks)\n",
    "\n",
    "pReturn = np.empty(n)\n",
    "weights = np.empty((n, len(portfolio_weights)))\n",
    "lastW = portfolio_weights.copy()\n",
    "matReturns = p4_returns[stocks].values\n",
    "\n",
    "print(\"\\nEach weights:\")\n",
    "for i in range(n):\n",
    "    # Save Current Weights in Matrix\n",
    "    weights[i, :] = lastW\n",
    "\n",
    "    # Update Weights by return\n",
    "    lastW = lastW * (1.0 + matReturns[i, :])\n",
    "\n",
    "    # Portfolio return is the sum of the updated weights\n",
    "    pR = lastW.sum()\n",
    "\n",
    "    # Normalize the weights back so sum = 1\n",
    "    lastW = lastW / pR\n",
    "\n",
    "    # Store the return\n",
    "    pReturn[i] = pR - 1\n",
    "    print(lastW)\n",
    "\n",
    "# Set the portfolio return in the Update Return DataFrame\n",
    "p4_returns[\"Portfolio\"] = pReturn\n",
    "# Calculate the total return\n",
    "totalRet = np.exp(np.sum(np.log(pReturn + 1))) - 1\n",
    "# Calculate the Carino K\n",
    "k = np.log(totalRet + 1) / totalRet\n",
    "\n",
    "# Carino k_t is the ratio scaled by 1/K\n",
    "carinoK = np.log(1.0 + pReturn) / pReturn / k\n",
    "\n",
    "# Calculate the return attribution\n",
    "attrib = pd.DataFrame(matReturns * weights * carinoK[:, np.newaxis], columns=stocks)\n",
    "\n",
    "# Set up a DataFrame for output\n",
    "Attribution = pd.DataFrame({\"Value\": [\"TotalReturn\", \"Return Attribution\"]})\n",
    "\n",
    "# Loop over the stocks\n",
    "for s in stocks + [\"Portfolio\"]:\n",
    "    # Total Stock return over the period\n",
    "    tr = np.exp(np.sum(np.log(p4_returns[s] + 1))) - 1\n",
    "\n",
    "    # Attribution Return (total portfolio return if we are updating the portfolio column)\n",
    "    atr = tr if s == \"Portfolio\" else attrib[s].sum()\n",
    "\n",
    "    # Set the values\n",
    "    Attribution[s] = [tr, atr]\n",
    "\n",
    "# Realized Volatility Attribution\n",
    "\n",
    "# Y is our stock returns scaled by their weight at each time\n",
    "Y = matReturns * weights\n",
    "\n",
    "# Set up X with the Portfolio Return\n",
    "X = np.column_stack((np.ones(n), pReturn))\n",
    "\n",
    "# Calculate the Beta and discard the intercept\n",
    "B = np.linalg.inv(X.T @ X) @ X.T @ Y\n",
    "B = B[1, :]\n",
    "\n",
    "# Component SD is Beta times the standard Deviation of the portfolio\n",
    "cSD = B * np.std(pReturn)\n",
    "\n",
    "# Add the Vol attribution to the output\n",
    "vol_attrib = pd.DataFrame({\"Value\": [\"Vol Attribution\"], **{stocks[i]: [cSD[i]] for i in range(len(stocks))}, \"Portfolio\": [np.std(pReturn)]})\n",
    "\n",
    "Attribution = pd.concat([Attribution, vol_attrib], ignore_index=True)\n",
    "print('')\n",
    "print(Attribution)\n"
   ]
  },
  {
   "attachments": {},
   "cell_type": "markdown",
   "metadata": {},
   "source": [
    "# Problem 5"
   ]
  },
  {
   "cell_type": "code",
   "execution_count": 17,
   "metadata": {},
   "outputs": [
    {
     "data": {
      "text/html": [
       "<div>\n",
       "<style scoped>\n",
       "    .dataframe tbody tr th:only-of-type {\n",
       "        vertical-align: middle;\n",
       "    }\n",
       "\n",
       "    .dataframe tbody tr th {\n",
       "        vertical-align: top;\n",
       "    }\n",
       "\n",
       "    .dataframe thead th {\n",
       "        text-align: right;\n",
       "    }\n",
       "</style>\n",
       "<table border=\"1\" class=\"dataframe\">\n",
       "  <thead>\n",
       "    <tr style=\"text-align: right;\">\n",
       "      <th></th>\n",
       "      <th>Price1</th>\n",
       "      <th>Price2</th>\n",
       "      <th>Price3</th>\n",
       "      <th>Price4</th>\n",
       "      <th>P1+2</th>\n",
       "      <th>P3+4</th>\n",
       "      <th>ALL</th>\n",
       "    </tr>\n",
       "  </thead>\n",
       "  <tbody>\n",
       "    <tr>\n",
       "      <th>1</th>\n",
       "      <td>-0.000205</td>\n",
       "      <td>-0.000210</td>\n",
       "      <td>0.000383</td>\n",
       "      <td>-0.000130</td>\n",
       "      <td>-0.000415</td>\n",
       "      <td>0.000253</td>\n",
       "      <td>-0.000162</td>\n",
       "    </tr>\n",
       "    <tr>\n",
       "      <th>2</th>\n",
       "      <td>0.000092</td>\n",
       "      <td>0.000534</td>\n",
       "      <td>-0.000759</td>\n",
       "      <td>-0.000360</td>\n",
       "      <td>0.000626</td>\n",
       "      <td>-0.001119</td>\n",
       "      <td>-0.000494</td>\n",
       "    </tr>\n",
       "    <tr>\n",
       "      <th>3</th>\n",
       "      <td>0.000017</td>\n",
       "      <td>-0.000501</td>\n",
       "      <td>0.000232</td>\n",
       "      <td>0.000183</td>\n",
       "      <td>-0.000484</td>\n",
       "      <td>0.000415</td>\n",
       "      <td>-0.000069</td>\n",
       "    </tr>\n",
       "    <tr>\n",
       "      <th>4</th>\n",
       "      <td>0.000082</td>\n",
       "      <td>0.000352</td>\n",
       "      <td>0.000135</td>\n",
       "      <td>0.000254</td>\n",
       "      <td>0.000434</td>\n",
       "      <td>0.000389</td>\n",
       "      <td>0.000823</td>\n",
       "    </tr>\n",
       "    <tr>\n",
       "      <th>5</th>\n",
       "      <td>-0.000196</td>\n",
       "      <td>-0.000383</td>\n",
       "      <td>0.000154</td>\n",
       "      <td>-0.000008</td>\n",
       "      <td>-0.000580</td>\n",
       "      <td>0.000145</td>\n",
       "      <td>-0.000434</td>\n",
       "    </tr>\n",
       "  </tbody>\n",
       "</table>\n",
       "</div>"
      ],
      "text/plain": [
       "     Price1    Price2    Price3    Price4      P1+2      P3+4       ALL\n",
       "1 -0.000205 -0.000210  0.000383 -0.000130 -0.000415  0.000253 -0.000162\n",
       "2  0.000092  0.000534 -0.000759 -0.000360  0.000626 -0.001119 -0.000494\n",
       "3  0.000017 -0.000501  0.000232  0.000183 -0.000484  0.000415 -0.000069\n",
       "4  0.000082  0.000352  0.000135  0.000254  0.000434  0.000389  0.000823\n",
       "5 -0.000196 -0.000383  0.000154 -0.000008 -0.000580  0.000145 -0.000434"
      ]
     },
     "execution_count": 17,
     "metadata": {},
     "output_type": "execute_result"
    }
   ],
   "source": [
    "# read data\n",
    "p5_prices = pd.read_csv('problem5.csv')\n",
    "returns = calc_return.return_calculate(p5_prices)\n",
    "returns.head()\n",
    "returns['P1+2'] = returns['Price1'] + returns['Price2']\n",
    "returns['P3+4'] = returns['Price3'] + returns['Price4']\n",
    "returns['ALL'] = returns['P1+2'] + returns['P3+4']\n",
    "returns.drop('Date',inplace=True, axis=1)\n",
    "returns.head()"
   ]
  },
  {
   "cell_type": "code",
   "execution_count": 18,
   "metadata": {},
   "outputs": [
    {
     "name": "stdout",
     "output_type": "stream",
     "text": [
      "The VaR(5%) of Price1 is :0.000462471106808633\n",
      "The VaR(5%) of Price2 is :0.0005891449598025266\n",
      "The VaR(5%) of Price3 is :0.0006789608171660899\n",
      "The VaR(5%) of Price4 is :0.0006466363741413171\n",
      "The VaR(5%) of P1+2 is :0.0008186813742070512\n",
      "The VaR(5%) of P3+4 is :0.001061544853925538\n",
      "The VaR(5%) of ALL is :0.0015634334980447393\n"
     ]
    }
   ],
   "source": [
    "list_p = returns.columns.values\n",
    "alpha = 0.05\n",
    "nsample = 10000\n",
    "mean = 0\n",
    "for i in list_p:\n",
    "    print(f'The VaR(5%) of {i} is :{VaR.MLE_t_var(returns[i], mean, alpha, nsample)}')\n"
   ]
  },
  {
   "cell_type": "code",
   "execution_count": null,
   "metadata": {},
   "outputs": [],
   "source": []
  }
 ],
 "metadata": {
  "kernelspec": {
   "display_name": "Python 3",
   "language": "python",
   "name": "python3"
  },
  "language_info": {
   "codemirror_mode": {
    "name": "ipython",
    "version": 3
   },
   "file_extension": ".py",
   "mimetype": "text/x-python",
   "name": "python",
   "nbconvert_exporter": "python",
   "pygments_lexer": "ipython3",
   "version": "3.11.1"
  },
  "orig_nbformat": 4
 },
 "nbformat": 4,
 "nbformat_minor": 2
}
