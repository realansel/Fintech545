{
  "cells": [
    {
      "cell_type": "code",
      "execution_count": null,
      "metadata": {
        "colab": {
          "base_uri": "https://localhost:8080/"
        },
        "id": "55AUzyuwDMbT",
        "outputId": "16367fa0-c4d6-4556-f454-f36b3e06956e"
      },
      "outputs": [
        {
          "output_type": "stream",
          "name": "stdout",
          "text": [
            "Mounted at /content/drive\n"
          ]
        }
      ],
      "source": [
        "import numpy as np\n",
        "import pandas as pd\n",
        "from scipy.linalg import eigh\n",
        "import matplotlib.pyplot as plt\n",
        "from google.colab import drive\n",
        "import time\n",
        "\n",
        "drive.mount('/content/drive')"
      ]
    },
    {
      "cell_type": "code",
      "execution_count": null,
      "metadata": {
        "id": "J4yq_sU5H9GW"
      },
      "outputs": [],
      "source": [
        "data = pd.read_csv(\"/content/drive/MyDrive/Fintech545/DailyReturn.csv\")\n",
        "data = data.iloc[:,1:]"
      ]
    },
    {
      "cell_type": "code",
      "execution_count": null,
      "metadata": {
        "id": "a_LCuGQSQUVA"
      },
      "outputs": [],
      "source": [
        "# Initializing array for storing weight\n",
        "t = len(data['SPY'])\n",
        "w = np.empty(t, dtype=float)"
      ]
    },
    {
      "cell_type": "code",
      "execution_count": null,
      "metadata": {
        "id": "RvrdIJbqUX3q"
      },
      "outputs": [],
      "source": [
        "# Vary lambda here for exponential \n",
        "lambda_value = 0.94\n",
        "def weight_f(lambda_value):\n",
        "  w = np.array([(1-lambda_value) * lambda_value**(i-1) for i in range(data.shape[0])])\n",
        "  w = sorted(w/np.sum(w))\n",
        "  return w\n",
        "w = weight_f(lambda_value)"
      ]
    },
    {
      "cell_type": "code",
      "execution_count": null,
      "metadata": {
        "id": "Xz3xcQchiSxr"
      },
      "outputs": [],
      "source": [
        "# Function that calculate exponential weighted covariance\n",
        "def exp_cov(X,Y):\n",
        "  cov = 0\n",
        "  xm = np.mean(X)\n",
        "  ym = np.mean(Y)\n",
        "  for i in range(t):\n",
        "    cov += (w[t-i-1] * (X[t-i-1]-xm) * (Y[t-i-1]-ym))\n",
        "  return cov"
      ]
    },
    {
      "cell_type": "code",
      "execution_count": null,
      "metadata": {
        "id": "8C3Lfcp2owDD"
      },
      "outputs": [],
      "source": [
        "def covmatrix(matrix):\n",
        "  # initialize cov matrix.\n",
        "  n = matrix.shape[1]\n",
        "  covMatrix = np.zeros((n,n))\n",
        "  for i in range(len(data.columns)):\n",
        "    for j in range(len(data.columns)):\n",
        "      covMatrix[i][j] = exp_cov(data.iloc[:, i], data.iloc[:,j])\n",
        "  return covMatrix"
      ]
    },
    {
      "cell_type": "code",
      "execution_count": null,
      "metadata": {
        "colab": {
          "base_uri": "https://localhost:8080/"
        },
        "id": "8eIltw2ZspuS",
        "outputId": "b3fe6de2-ec9e-4d48-d160-41673d60dc70"
      },
      "outputs": [
        {
          "output_type": "stream",
          "name": "stdout",
          "text": [
            "[[8.25839218e-05 1.13157307e-04 1.32658493e-04 ... 1.15015729e-04\n",
            "  6.51973440e-05 8.28276770e-05]\n",
            " [1.13157307e-04 2.61179609e-04 2.20642626e-04 ... 1.14994673e-04\n",
            "  2.48273209e-05 8.33597068e-05]\n",
            " [1.32658493e-04 2.20642626e-04 3.29737461e-04 ... 5.98170234e-05\n",
            "  2.51233125e-05 7.07802358e-05]\n",
            " ...\n",
            " [1.15015729e-04 1.14994673e-04 5.98170234e-05 ... 7.30215981e-04\n",
            "  2.67284635e-04 2.02408061e-04]\n",
            " [6.51973440e-05 2.48273209e-05 2.51233125e-05 ... 2.67284635e-04\n",
            "  2.96819677e-04 5.56068297e-05]\n",
            " [8.28276770e-05 8.33597068e-05 7.07802358e-05 ... 2.02408061e-04\n",
            "  5.56068297e-05 2.54613778e-04]]\n"
          ]
        }
      ],
      "source": [
        "# The result of cov matrix\n",
        "cov_m = covmatrix(data)\n",
        "print(cov_m)"
      ]
    },
    {
      "cell_type": "code",
      "execution_count": null,
      "metadata": {
        "id": "j5kNSplm4CH0"
      },
      "outputs": [],
      "source": [
        "def simulate_pca(a,nval=None):\n",
        "    # Eigenvalue decomposition\n",
        "    vals, vecs = np.linalg.eig(a)\n",
        "\n",
        "    # flip the eigenvalues and the vectors\n",
        "    flip = np.argsort(vals)[::-1]\n",
        "    vals = vals[flip]\n",
        "    vecs = vecs[:, flip]\n",
        "    tv = np.sum(vals)\n",
        "\n",
        "    posv = np.where(vals >= 1e-8)[0]\n",
        "    if nval is not None:\n",
        "        if nval < posv.shape[0]:\n",
        "            posv = posv[:nval]\n",
        "    vals = vals[posv]\n",
        "\n",
        "    vecs = vecs[:, posv]\n",
        "    return np.abs(np.sum(vals)/tv)"
      ]
    },
    {
      "cell_type": "code",
      "execution_count": null,
      "metadata": {
        "id": "vyLlPmSMBxr0"
      },
      "outputs": [],
      "source": [
        "X = np.arange(1,102)\n",
        "Y = np.zeros(101)"
      ]
    },
    {
      "cell_type": "code",
      "execution_count": null,
      "metadata": {
        "id": "YqEgbPbrITCu"
      },
      "outputs": [],
      "source": [
        "lamb=[0.1,0.3,0.4,0.5,0.6,0.7,0.8,0.95,0.9,0.95,0.97]"
      ]
    },
    {
      "cell_type": "code",
      "execution_count": null,
      "metadata": {
        "colab": {
          "base_uri": "https://localhost:8080/",
          "height": 405
        },
        "id": "HGlM3g2HkAyL",
        "outputId": "043eed1f-b36a-4afe-f135-57871cc03955"
      },
      "outputs": [
        {
          "output_type": "display_data",
          "data": {
            "text/plain": [
              "<Figure size 432x396 with 1 Axes>"
            ],
            "image/png": "[encoded data removed]"
          },
          "metadata": {
            "needs_background": "light"
          }
        }
      ],
      "source": [
        "plt.rcParams[\"figure.figsize\"] = [6, 5.50]\n",
        "plt.rcParams[\"figure.autolayout\"] = True\n",
        "fig, ax = plt.subplots()\n",
        "for i in range(len(lamb)):\n",
        "  w = weight_f(lamb[i])\n",
        "  covMatrix = covmatrix(data)\n",
        "  for j in range(101):\n",
        "    Y[j] = simulate_pca(covMatrix, nval=X[j])\n",
        "  ax.plot(X,Y, label='\\u03BB = {:.2f}'.format(lamb[i]) )\n",
        "leg = ax.legend()\n",
        "plt.xlabel('Number of stocks')\n",
        "plt.ylabel('Explaing percentage')\n",
        "plt.xlim([0,100])\n",
        "plt.show()"
      ]
    },
    {
      "cell_type": "markdown",
      "metadata": {
        "id": "Bl2lpO0FaISb"
      },
      "source": [
        "# Problem 2"
      ]
    },
    {
      "cell_type": "code",
      "execution_count": null,
      "metadata": {
        "id": "Gj96HE6nkFBp"
      },
      "outputs": [],
      "source": [
        "# implement Cholesky function in python (not required!)\n",
        "def cholesky(A):\n",
        "    n = len(A)\n",
        "    L = np.zeros((n,n))\n",
        "    for i in range(n):\n",
        "        for j in range(i+1):\n",
        "            s = sum(L[i][k] * L[j][k] for k in range(j))\n",
        "            if i == j:\n",
        "                L[i][j] = np.sqrt(A[i][i] - s)\n",
        "            else:\n",
        "                L[i][j] = (A[i][j] - s) / L[j][j]\n",
        "    return L"
      ]
    },
    {
      "cell_type": "code",
      "execution_count": null,
      "metadata": {
        "id": "bMboSYljFM_P",
        "colab": {
          "base_uri": "https://localhost:8080/"
        },
        "outputId": "a4262000-66a7-47d2-be62-46b2795f8162"
      },
      "outputs": [
        {
          "output_type": "stream",
          "name": "stdout",
          "text": [
            "[[1.  0.  0.  0.  0. ]\n",
            " [1.  0.  0.  0.  0. ]\n",
            " [0.9 nan nan 0.  0. ]\n",
            " [0.9 nan nan nan 0. ]\n",
            " [0.9 nan nan nan nan]]\n"
          ]
        },
        {
          "output_type": "stream",
          "name": "stderr",
          "text": [
            "<ipython-input-12-82e8a0960ba2>:11: RuntimeWarning: invalid value encountered in double_scalars\n",
            "  L[i][j] = (A[i][j] - s) / L[j][j]\n"
          ]
        }
      ],
      "source": [
        "# Test cholesky on a non pd matrix\n",
        "n = 5\n",
        "sigma = np.full((n,n), 0.9)\n",
        "for i in range(n):\n",
        "    sigma[i][i] = 1.0\n",
        "sigma[0][1]=1.0\n",
        "sigma[1][0]=1.0\n",
        "a = cholesky(sigma)\n",
        "print(a)"
      ]
    },
    {
      "cell_type": "code",
      "execution_count": null,
      "metadata": {
        "id": "GznXJf3AGpbG"
      },
      "outputs": [],
      "source": [
        "# Reproduce chol_psd\n",
        "def chol_psd(A):\n",
        "  n = A.shape[1]\n",
        "  root = np.zeros((n,n))\n",
        "  \n",
        "  # loop over columns\n",
        "  for i in range(n):\n",
        "    s = 0.0\n",
        "    if i > 0:\n",
        "      s = root[i][:i].T @ root[i][:i]\n",
        "    \n",
        "    # Diagonal Element\n",
        "    temp = A[i][i] - s\n",
        "    if temp <= 0 and temp >= -1e-8:\n",
        "      temp = 0.0\n",
        "    root[i][i] = np.sqrt(temp)\n",
        "\n",
        "    # check for the 0 eign value. set the column to 0 if we have one\n",
        "    if root[i][i] == 0.0:\n",
        "      root[i][(i+1):n] = 0.0\n",
        "    else:\n",
        "      # update off diagonal rows of the column\n",
        "      ir = 1.0/root[i][i]\n",
        "      for j in np.arange(i+1,n):\n",
        "        s = root[j][:i].T @ root[i][:i]\n",
        "        root[j][i] = (A[j][i] -s) * ir\n",
        "  return root"
      ]
    },
    {
      "cell_type": "code",
      "execution_count": null,
      "metadata": {
        "id": "h_cF14Am6XTj",
        "colab": {
          "base_uri": "https://localhost:8080/"
        },
        "outputId": "5d17bac3-de09-4abe-c72b-9c5da887ac1e"
      },
      "outputs": [
        {
          "output_type": "execute_result",
          "data": {
            "text/plain": [
              "array([[1. , 1. , 0.9, 0.9, 0.9],\n",
              "       [1. , 1. , 0.9, 0.9, 0.9],\n",
              "       [0.9, 0.9, 1. , 0.9, 0.9],\n",
              "       [0.9, 0.9, 0.9, 1. , 0.9],\n",
              "       [0.9, 0.9, 0.9, 0.9, 1. ]])"
            ]
          },
          "metadata": {},
          "execution_count": 15
        }
      ],
      "source": [
        "# test chol_psd()\n",
        "root = chol_psd(sigma)\n",
        "root @ root.T"
      ]
    },
    {
      "cell_type": "code",
      "execution_count": null,
      "metadata": {
        "id": "Rk6OasY76e46"
      },
      "outputs": [],
      "source": [
        "# Reproduce near_psd\n",
        "def near_psd(a, epsilon=0.0):\n",
        "  n = a.shape[0]\n",
        "\n",
        "\n",
        "  invSD = None\n",
        "  out = a.copy()\n",
        "\n",
        "  #calculate the correlation matrix if we got a covariance\n",
        "  if (np.count_nonzero(np.diag(out) == 1.0) != n):\n",
        "      invSD = np.diag(1.0 / np.sqrt(np.diag(out)))\n",
        "      out = np.dot(np.dot(invSD, out), invSD)\n",
        "\n",
        "  #SVD, update the eigen value and scale\n",
        "  vals, vecs = np.linalg.eigh(out)\n",
        "  vals = np.maximum(vals, epsilon)\n",
        "  T = 1.0 / (np.dot(np.dot(vecs, np.diag(vals)), vecs.T))\n",
        "  T = np.diag(np.sqrt(np.diag(T)))\n",
        "  l = np.diag(np.sqrt(vals))\n",
        "  B = np.dot(np.dot(T, vecs), l)\n",
        "  out = np.dot(B, B.T)\n",
        "\n",
        "  #Add back the variance\n",
        "  if invSD is not None:\n",
        "      invSD = np.diag(1.0 / np.diag(invSD))\n",
        "      out = np.dot(np.dot(invSD, out), invSD)\n",
        "  return out"
      ]
    },
    {
      "cell_type": "code",
      "execution_count": null,
      "metadata": {
        "id": "seP3HYJdnRLB"
      },
      "outputs": [],
      "source": [
        "# initialize a non-psd correlation matrix\n",
        "\n",
        "n=500\n",
        "sigma = np.ones((n,n))*0.9\n",
        "for i in range(n):\n",
        "  sigma[i,i]=1.0\n",
        "sigma[0,1] = 0.7357\n",
        "sigma[1,0] = 0.7357"
      ]
    },
    {
      "cell_type": "code",
      "execution_count": null,
      "metadata": {
        "id": "f7tIz2uzn4VZ"
      },
      "outputs": [],
      "source": [
        "# Create Higham's method that turn non pd to psd\n",
        "def higham(R, tol=10):\n",
        "  state = True\n",
        "  while state is True:\n",
        "    λ, V = eigh(R)\n",
        "    check = 0\n",
        "    for i in λ:\n",
        "      if i < -1e-8:\n",
        "        check +=1\n",
        "    if check == 0 or tol <0:\n",
        "      state = False\n",
        "      break\n",
        "    D = np.diag(np.maximum(λ,0))\n",
        "    R = V @ D @ V.T\n",
        "    tol -= 1\n",
        "  return R\n"
      ]
    },
    {
      "cell_type": "code",
      "execution_count": null,
      "metadata": {
        "id": "ltrtIWiCuat3"
      },
      "outputs": [],
      "source": [
        "# Make non pd matrix psd\n",
        "after_near = near_psd(sigma)\n",
        "after_hig = higham(sigma)"
      ]
    },
    {
      "cell_type": "code",
      "execution_count": null,
      "metadata": {
        "id": "49cEQZrZudwM",
        "colab": {
          "base_uri": "https://localhost:8080/"
        },
        "outputId": "4cdb9db5-eb23-409e-cf72-4d1adeb104cc"
      },
      "outputs": [
        {
          "output_type": "stream",
          "name": "stdout",
          "text": [
            "[[-1.57235480e-02  0.00000000e+00  0.00000000e+00 ...  0.00000000e+00\n",
            "   0.00000000e+00  0.00000000e+00]\n",
            " [-1.16954811e-02 -1.05093141e-02  0.00000000e+00 ...  0.00000000e+00\n",
            "   0.00000000e+00  0.00000000e+00]\n",
            " [-2.26277258e-07 -8.67287982e-08 -8.06861290e-08 ...  0.00000000e+00\n",
            "   0.00000000e+00  0.00000000e+00]\n",
            " ...\n",
            " [-2.26277384e-07 -8.67288465e-08  1.62357718e-10 ... -6.59508089e-08\n",
            "   0.00000000e+00  0.00000000e+00]\n",
            " [-2.26277385e-07 -8.67288467e-08  1.62353852e-10 ...  3.29616624e-08\n",
            "  -5.71230097e-08  0.00000000e+00]\n",
            " [-2.26277385e-07 -8.67288468e-08  1.62355961e-10 ...  3.29617140e-08\n",
            "   5.70754969e-08  0.00000000e+00]]\n"
          ]
        }
      ],
      "source": [
        "# test if near_psd and higham function success transfer to psd correlation matrix\n",
        "test1 = chol_psd(after_near)\n",
        "test2 = chol_psd(after_hig)\n",
        "print(test1 - test2)"
      ]
    },
    {
      "cell_type": "code",
      "execution_count": null,
      "metadata": {
        "id": "odYfIvSKA1Mm"
      },
      "outputs": [],
      "source": [
        "# Frobenius Norm\n",
        "def frobenius_norm(matrix):\n",
        "  return np.linalg.norm(matrix, 'fro')"
      ]
    },
    {
      "cell_type": "code",
      "source": [
        "# Test time diff when n = 500\n",
        "start1 = time.time()\n",
        "after_near = near_psd(sigma)\n",
        "end1 = time.time()\n",
        "after_hig = higham(sigma)\n",
        "end2 = time.time()\n",
        "print(\"Near_psd takes:\",end1-start1)\n",
        "print(\"Higham takes: \", end2-end1)"
      ],
      "metadata": {
        "colab": {
          "base_uri": "https://localhost:8080/"
        },
        "id": "9QKlbQpkQ6UI",
        "outputId": "4be06a89-8f33-4155-d838-8272a05e4b8c"
      },
      "execution_count": null,
      "outputs": [
        {
          "output_type": "stream",
          "name": "stdout",
          "text": [
            "Near_psd takes: 0.09268403053283691\n",
            "Higham takes:  0.15073323249816895\n"
          ]
        }
      ]
    },
    {
      "cell_type": "code",
      "execution_count": null,
      "metadata": {
        "id": "TYUoZXkYFIbn",
        "colab": {
          "base_uri": "https://localhost:8080/"
        },
        "outputId": "a4cf171b-c8b9-4df5-8cd9-a69348667ea0"
      },
      "outputs": [
        {
          "output_type": "stream",
          "name": "stdout",
          "text": [
            "Frobenius norm difference of near_psd: 0.0555\n",
            "Frobenius norm difference of higham: 4.499e-06\n"
          ]
        }
      ],
      "source": [
        "f_near = frobenius_norm(after_near)\n",
        "f_hig = frobenius_norm(after_hig)\n",
        "f_sig = frobenius_norm(sigma)\n",
        "print(\"Frobenius norm difference of near_psd: {:.3}\".format(np.abs(f_near-f_sig)))\n",
        "print(\"Frobenius norm difference of higham: {:.4}\".format(np.abs(f_hig-f_sig)))\n"
      ]
    },
    {
      "cell_type": "code",
      "execution_count": null,
      "metadata": {
        "id": "UcIt6y-fFbRo"
      },
      "outputs": [],
      "source": [
        "# test higher n\n",
        "n=2000\n",
        "sigma = np.ones((n,n))*0.9\n",
        "for i in range(n):\n",
        "  sigma[i,i]=1.0\n",
        "sigma[0,1] = 0.7357\n",
        "sigma[1,0] = 0.7357"
      ]
    },
    {
      "cell_type": "code",
      "execution_count": null,
      "metadata": {
        "id": "LQ4j-IrrGSaD"
      },
      "outputs": [],
      "source": [
        "\n",
        "start1 = time.time()\n",
        "after_near = near_psd(sigma)\n",
        "end1 = time.time()\n",
        "after_hig = higham(sigma)\n",
        "end2 = time.time()"
      ]
    },
    {
      "cell_type": "code",
      "execution_count": null,
      "metadata": {
        "colab": {
          "base_uri": "https://localhost:8080/"
        },
        "id": "PhBBIOyRGbiO",
        "outputId": "b33d7a71-d320-433d-83af-4ffb6a3c131d"
      },
      "outputs": [
        {
          "output_type": "stream",
          "name": "stdout",
          "text": [
            "Frobenius norm difference of near_psd: 0.0559\n",
            "Frobenius norm difference of higham: 1.142e-06\n",
            "Time for near_psd: 4.539523601531982\n",
            "Time for higham: 4.865905284881592\n"
          ]
        }
      ],
      "source": [
        "f_near = frobenius_norm(after_near)\n",
        "f_hig = frobenius_norm(after_hig)\n",
        "f_sig = frobenius_norm(sigma)\n",
        "print(\"Frobenius norm difference of near_psd: {:.3}\".format(np.abs(f_near-f_sig)))\n",
        "print(\"Frobenius norm difference of higham: {:.4}\".format(np.abs(f_hig-f_sig)))\n",
        "\n",
        "print(\"Time for near_psd:\",end1-start1)\n",
        "print(\"Time for higham:\",end2-end1)"
      ]
    },
    {
      "cell_type": "code",
      "execution_count": null,
      "metadata": {
        "id": "TxLUoZdGCXqO"
      },
      "outputs": [],
      "source": [
        "n=5000\n",
        "sigma = np.ones((n,n))*0.9\n",
        "for i in range(n):\n",
        "  sigma[i,i]=1.0\n",
        "sigma[0,1] = 0.7357\n",
        "sigma[1,0] = 0.7357\n",
        "\n",
        "start1 = time.time()\n",
        "after_near = near_psd(sigma)\n",
        "end1 = time.time()\n",
        "after_hig = higham(sigma)\n",
        "end2 = time.time()"
      ]
    },
    {
      "cell_type": "code",
      "execution_count": null,
      "metadata": {
        "colab": {
          "base_uri": "https://localhost:8080/"
        },
        "id": "0MS1iXtlCmc_",
        "outputId": "ba001e35-4bba-44de-a1ac-61bda2a50032"
      },
      "outputs": [
        {
          "output_type": "stream",
          "name": "stdout",
          "text": [
            "Frobenius norm difference of near_psd: 0.056\n",
            "Frobenius norm difference of higham: 4.803e-07\n",
            "Time for near_psd: 79.2311098575592\n",
            "Time for higham: 81.81068062782288\n"
          ]
        }
      ],
      "source": [
        "f_near = frobenius_norm(after_near)\n",
        "f_hig = frobenius_norm(after_hig)\n",
        "f_sig = frobenius_norm(sigma)\n",
        "print(\"Frobenius norm difference of near_psd: {:.3}\".format(np.abs(f_near-f_sig)))\n",
        "print(\"Frobenius norm difference of higham: {:.4}\".format(np.abs(f_hig-f_sig)))\n",
        "\n",
        "print(\"Time for near_psd:\",end1-start1)\n",
        "print(\"Time for higham:\",end2-end1)"
      ]
    },
    {
      "cell_type": "markdown",
      "metadata": {
        "id": "D7RrjENVL1FI"
      },
      "source": [
        "# Problem3"
      ]
    },
    {
      "cell_type": "code",
      "execution_count": null,
      "metadata": {
        "colab": {
          "base_uri": "https://localhost:8080/"
        },
        "id": "v0USt1CZL3BN",
        "outputId": "aba8ec7f-5737-47e2-fbc6-a8df676c84ea"
      },
      "outputs": [
        {
          "output_type": "execute_result",
          "data": {
            "text/plain": [
              "(101,)"
            ]
          },
          "metadata": {},
          "execution_count": 3
        }
      ],
      "source": [
        "# Get the unweighted data\n",
        "nsim = 25000\n",
        "corr_m = data.corr()\n",
        "original_var =np.var(data, axis=0)\n",
        "original_var.shape"
      ]
    },
    {
      "cell_type": "code",
      "execution_count": null,
      "metadata": {
        "id": "ev5YbIbWUzbK"
      },
      "outputs": [],
      "source": [
        "# weighted variance\n",
        "\n",
        "def exponential_weighted_variance(data,lambda_value):\n",
        "    n = data.shape[0]\n",
        "    m = data.shape[1]\n",
        "    var = np.zeros((m,))\n",
        "    weights = np.array([(1 - lambda_value) * lambda_value ** (i - 1) for i in range(n)])\n",
        "    weights = sorted(weights/np.sum(weights))\n",
        "    for i in range(m):\n",
        "      xm = np.mean(data.iloc[:,i])\n",
        "      var_sum = 0\n",
        "      for j in range(n):\n",
        "        var_sum += weights[n-1-j]*(data.iloc[:,i][n-1-j] - xm)**2\n",
        "      var[i] = var_sum\n",
        "    return var\n",
        "\n",
        "lambda_value = 0.97\n",
        "weighted_variance_vector = exponential_weighted_variance(data, lambda_value)"
      ]
    },
    {
      "cell_type": "code",
      "execution_count": null,
      "metadata": {
        "id": "4dUq5zk1bn_2"
      },
      "outputs": [],
      "source": [
        "# Get correlation from covariance and variance\n",
        "\n",
        "def exponential_weighted_correlation(cov, var):\n",
        "  std_vector = np.sqrt(var)\n",
        "\n",
        "  corr = cov / np.outer(std_vector, std_vector)\n",
        "  return corr\n"
      ]
    },
    {
      "cell_type": "code",
      "execution_count": null,
      "metadata": {
        "id": "r1nmACQP44L9"
      },
      "outputs": [],
      "source": [
        "lambda_value = 0.94\n",
        "cov = covmatrix(data)\n",
        "weighted_corr = exponential_weighted_correlation(cov,weighted_variance_vector)"
      ]
    },
    {
      "cell_type": "code",
      "execution_count": null,
      "metadata": {
        "id": "TohIDjtodEwg"
      },
      "outputs": [],
      "source": [
        "# Get covariance from correlation and variance\n",
        "\n",
        "def return_cov(corr, var):\n",
        "  std_vector = np.sqrt(var)\n",
        "  cov = corr * np.outer(std_vector, std_vector)\n",
        "  return np.array(cov)"
      ]
    },
    {
      "cell_type": "code",
      "execution_count": null,
      "metadata": {
        "id": "c_iW9aMdiIBp"
      },
      "outputs": [],
      "source": [
        "cov1 = return_cov(corr_m, original_var)\n",
        "cov2 = return_cov(corr_m, weighted_variance_vector)\n",
        "cov3 = return_cov(weighted_corr, weighted_variance_vector)\n",
        "cov4 = return_cov(weighted_corr,original_var)"
      ]
    },
    {
      "cell_type": "code",
      "execution_count": null,
      "metadata": {
        "id": "YsncdxMjBBA5"
      },
      "outputs": [],
      "source": [
        "def direct_simulation(cov,nsim):\n",
        "  result = chol_psd(cov) @ np.random.standard_normal(size=(len(cov), nsim))\n",
        "  return result"
      ]
    },
    {
      "cell_type": "code",
      "execution_count": null,
      "metadata": {
        "id": "4AL9UGLsGMH2"
      },
      "outputs": [],
      "source": [
        "def simulate_pca(a, nsim, perc):\n",
        "    # Eigenvalue decomposition\n",
        "    vals, vecs = np.linalg.eig(a)\n",
        "\n",
        "    # flip the eigenvalues and the vectors\n",
        "    flip = np.argsort(vals)[::-1]\n",
        "    vals = vals[flip]\n",
        "    vecs = vecs[:, flip]\n",
        "\n",
        "    tv = np.sum(vals)\n",
        "    start = 0\n",
        "    while (np.abs(np.sum(vals[:start])/tv) <perc):\n",
        "      start+=1\n",
        "    vals = vals[:start]\n",
        "    vecs = vecs[:, :start]\n",
        "    print(\"Simulating with\", start, \"PC Factors: {:.2f}\".format(np.abs(sum(vals)/tv*100)), \"% total variance explained\")\n",
        "    B = np.matmul(vecs, np.diag(np.sqrt(vals)))\n",
        "    m = B.shape[1]\n",
        "    r = np.random.randn(m,nsim)\n",
        "    return np.matmul(B, r)"
      ]
    },
    {
      "cell_type": "code",
      "execution_count": null,
      "metadata": {
        "id": "EQAH3NXbEqJG"
      },
      "outputs": [],
      "source": [
        "# Standard answer\n",
        "FS = frobenius_norm(np.cov(data,rowvar=False))"
      ]
    },
    {
      "cell_type": "code",
      "source": [
        "# Matrix 1\n",
        "a = time.time()\n",
        "F1 = frobenius_norm(np.cov(direct_simulation(cov1,nsim)))\n",
        "b = time.time()\n",
        "F2 = frobenius_norm(np.cov(simulate_pca(cov1, nsim, perc=1)))\n",
        "c = time.time()\n",
        "F3 = frobenius_norm(np.cov(simulate_pca(cov1, nsim, perc=0.75)))\n",
        "d = time.time()\n",
        "F4 = frobenius_norm(np.cov(simulate_pca(cov1, nsim, perc=0.5)))\n",
        "e = time.time()\n",
        "print(\"Direct Simulation time: {:.5}\".format(b-a))\n",
        "print(\"Norm difference for direct simulation: {:.5}\".format(np.abs(FS-F1)))\n",
        "print(\"PCA with 100% explained time: {:.5}\".format(c-b))\n",
        "print(\"Norm difference for PCA with 100% explained: {:.5}\".format(np.abs(FS-F2)))\n",
        "print(\"PCA with 75% explained time: {:.5}\".format(d-c))\n",
        "print(\"Norm difference for PCA with 75% explained: {:.5}\".format(np.abs(FS-F3)))\n",
        "print(\"PCA with 50% explained time: {:.5}\".format(e-d))\n",
        "print(\"Norm difference for PCA with 50% explained: {:.5}\".format(np.abs(FS-F4)))\n",
        "\n",
        "x = np.array([b-a, c-b, d-c, e-d])\n",
        "y = np.array([np.abs(FS-F1),np.abs(FS-F2), np.abs(FS-F3),np.abs(FS-F4)])\n",
        "plt.scatter(x[0], y[0], label=\"Direct Simulation\")\n",
        "plt.scatter(x[1], y[1], label=\"PCA with 100%\")\n",
        "plt.scatter(x[2], y[2], label=\"PCA with 75%\")\n",
        "plt.scatter(x[3], y[3], label=\"PCA with 50%\")\n",
        "plt.xlabel(\"Time span\")\n",
        "plt.ylabel(\"Accuracy difference\")\n",
        "plt.legend()\n",
        "plt.show()"
      ],
      "metadata": {
        "colab": {
          "base_uri": "https://localhost:8080/",
          "height": 470
        },
        "id": "tqzusQBufwVJ",
        "outputId": "0dc555cd-ef7b-4835-91c6-a42989e3b4bf"
      },
      "execution_count": null,
      "outputs": [
        {
          "output_type": "stream",
          "name": "stdout",
          "text": [
            "Simulating with 96 PC Factors: 100.00 % total variance explained\n",
            "Simulating with 12 PC Factors: 76.12 % total variance explained\n",
            "Simulating with 4 PC Factors: 53.63 % total variance explained\n",
            "Direct Simulation time: 0.2319\n",
            "Norm difference for direct simulation: 0.000229\n",
            "PCA with 100% explained time: 0.62907\n",
            "Norm difference for PCA with 100% explained: 0.0002319\n",
            "PCA with 75% explained time: 0.31058\n",
            "Norm difference for PCA with 75% explained: 0.00020079\n",
            "PCA with 50% explained time: 0.29501\n",
            "Norm difference for PCA with 50% explained: 0.00062051\n"
          ]
        },
        {
          "output_type": "display_data",
          "data": {
            "text/plain": [
              "<Figure size 432x288 with 1 Axes>"
            ],
            "image/png": "[encoded data removed]"
          },
          "metadata": {
            "needs_background": "light"
          }
        }
      ]
    },
    {
      "cell_type": "code",
      "execution_count": null,
      "metadata": {
        "colab": {
          "base_uri": "https://localhost:8080/",
          "height": 470
        },
        "id": "AhiEqwS6fSha",
        "outputId": "dcb041d6-11b3-474d-94cc-e57c37d9ae08"
      },
      "outputs": [
        {
          "output_type": "stream",
          "name": "stdout",
          "text": [
            "Simulating with 65 PC Factors: 100.00 % total variance explained\n",
            "Simulating with 12 PC Factors: 76.57 % total variance explained\n",
            "Simulating with 4 PC Factors: 54.55 % total variance explained\n",
            "Direct Simulation time: 0.14071\n",
            "Norm difference for direct simulation: 0.00015219\n",
            "PCA with 100% explained time: 0.25195\n",
            "Norm difference for PCA with 100% explained: 0.00010467\n",
            "PCA with 75% explained time: 0.15364\n",
            "Norm difference for PCA with 75% explained: 0.00014974\n",
            "PCA with 50% explained time: 0.14456\n",
            "Norm difference for PCA with 50% explained: 0.00037502\n"
          ]
        },
        {
          "output_type": "display_data",
          "data": {
            "text/plain": [
              "<Figure size 432x288 with 1 Axes>"
            ],
            "image/png": "[encoded data removed]"
          },
          "metadata": {
            "needs_background": "light"
          }
        }
      ],
      "source": [
        "# Matrix 2\n",
        "a = time.time()\n",
        "F1 = frobenius_norm(np.cov(direct_simulation(cov2,nsim)))\n",
        "b = time.time()\n",
        "F2 = frobenius_norm(np.cov(simulate_pca(cov2, nsim, perc=1)))\n",
        "c = time.time()\n",
        "F3 = frobenius_norm(np.cov(simulate_pca(cov2, nsim, perc=0.75)))\n",
        "d = time.time()\n",
        "F4 = frobenius_norm(np.cov(simulate_pca(cov2, nsim, perc=0.5)))\n",
        "e = time.time()\n",
        "print(\"Direct Simulation time: {:.5}\".format(b-a))\n",
        "print(\"Norm difference for direct simulation: {:.5}\".format(np.abs(FS-F1)))\n",
        "print(\"PCA with 100% explained time: {:.5}\".format(c-b))\n",
        "print(\"Norm difference for PCA with 100% explained: {:.5}\".format(np.abs(FS-F2)))\n",
        "print(\"PCA with 75% explained time: {:.5}\".format(d-c))\n",
        "print(\"Norm difference for PCA with 75% explained: {:.5}\".format(np.abs(FS-F3)))\n",
        "print(\"PCA with 50% explained time: {:.5}\".format(e-d))\n",
        "print(\"Norm difference for PCA with 50% explained: {:.5}\".format(np.abs(FS-F4)))\n",
        "x = np.array([b-a, c-b, d-c, e-d])\n",
        "y = np.array([np.abs(FS-F1),np.abs(FS-F2), np.abs(FS-F3),np.abs(FS-F4)])\n",
        "plt.scatter(x[0], y[0], label=\"Direct Simulation\")\n",
        "plt.scatter(x[1], y[1], label=\"PCA with 100%\")\n",
        "plt.scatter(x[2], y[2], label=\"PCA with 75%\")\n",
        "plt.scatter(x[3], y[3], label=\"PCA with 50%\")\n",
        "plt.xlabel(\"Time span\")\n",
        "plt.ylabel(\"Accuracy difference\")\n",
        "plt.legend()\n",
        "plt.show()"
      ]
    },
    {
      "cell_type": "code",
      "execution_count": null,
      "metadata": {
        "id": "jG7rMGCQgF9l",
        "colab": {
          "base_uri": "https://localhost:8080/",
          "height": 470
        },
        "outputId": "0b656653-787d-4177-90cc-ffbc993b3120"
      },
      "outputs": [
        {
          "output_type": "stream",
          "name": "stdout",
          "text": [
            "Simulating with 59 PC Factors: 100.00 % total variance explained\n",
            "Simulating with 11 PC Factors: 77.37 % total variance explained\n",
            "Simulating with 5 PC Factors: 54.50 % total variance explained\n",
            "Direct Simulation time: 0.13959\n",
            "Norm difference for direct simulation: 0.0022145\n",
            "PCA with 100% explained time: 0.24612\n",
            "Norm difference for PCA with 100% explained: 0.0021125\n",
            "PCA with 75% explained time: 0.15131\n",
            "Norm difference for PCA with 75% explained: 0.0023404\n",
            "PCA with 50% explained time: 0.14541\n",
            "Norm difference for PCA with 50% explained: 0.0029265\n"
          ]
        },
        {
          "output_type": "display_data",
          "data": {
            "text/plain": [
              "<Figure size 432x288 with 1 Axes>"
            ],
            "image/png": "[encoded data removed]"
          },
          "metadata": {
            "needs_background": "light"
          }
        }
      ],
      "source": [
        "# Matrix 3\n",
        "a = time.time()\n",
        "F1 = frobenius_norm(np.cov(direct_simulation(cov3,nsim)))\n",
        "b = time.time()\n",
        "F2 = frobenius_norm(np.cov(simulate_pca(cov3, nsim, perc=1)))\n",
        "c = time.time()\n",
        "F3 = frobenius_norm(np.cov(simulate_pca(cov3, nsim, perc=0.75)))\n",
        "d = time.time()\n",
        "F4 = frobenius_norm(np.cov(simulate_pca(cov3, nsim, perc=0.5)))\n",
        "e = time.time()\n",
        "print(\"Direct Simulation time: {:.5}\".format(b-a))\n",
        "print(\"Norm difference for direct simulation: {:.5}\".format(np.abs(FS-F1)))\n",
        "print(\"PCA with 100% explained time: {:.5}\".format(c-b))\n",
        "print(\"Norm difference for PCA with 100% explained: {:.5}\".format(np.abs(FS-F2)))\n",
        "print(\"PCA with 75% explained time: {:.5}\".format(d-c))\n",
        "print(\"Norm difference for PCA with 75% explained: {:.5}\".format(np.abs(FS-F3)))\n",
        "print(\"PCA with 50% explained time: {:.5}\".format(e-d))\n",
        "print(\"Norm difference for PCA with 50% explained: {:.5}\".format(np.abs(FS-F4)))\n",
        "x = np.array([b-a, c-b, d-c, e-d])\n",
        "y = np.array([np.abs(FS-F1),np.abs(FS-F2), np.abs(FS-F3),np.abs(FS-F4)])\n",
        "plt.scatter(x[0], y[0], label=\"Direct Simulation\")\n",
        "plt.scatter(x[1], y[1], label=\"PCA with 100%\")\n",
        "plt.scatter(x[2], y[2], label=\"PCA with 75%\")\n",
        "plt.scatter(x[3], y[3], label=\"PCA with 50%\")\n",
        "plt.xlabel(\"Time span\")\n",
        "plt.ylabel(\"Accuracy difference\")\n",
        "plt.legend()\n",
        "plt.show()"
      ]
    },
    {
      "cell_type": "code",
      "source": [
        "# Matrix 4\n",
        "a = time.time()\n",
        "F1 = frobenius_norm(np.cov(direct_simulation(cov4,nsim)))\n",
        "b = time.time()\n",
        "F2 = frobenius_norm(np.cov(simulate_pca(cov4, nsim, perc=1)))\n",
        "c = time.time()\n",
        "F3 = frobenius_norm(np.cov(simulate_pca(cov4, nsim, perc=0.75)))\n",
        "d = time.time()\n",
        "F4 = frobenius_norm(np.cov(simulate_pca(cov4, nsim, perc=0.5)))\n",
        "e = time.time()\n",
        "print(\"Direct Simulation time: {:.5}\".format(b-a))\n",
        "print(\"Norm difference for direct simulation: {:.5}\".format(np.abs(FS-F1)))\n",
        "print(\"PCA with 100% explained time: {:.5}\".format(c-b))\n",
        "print(\"Norm difference for PCA with 100% explained: {:.5}\".format(np.abs(FS-F2)))\n",
        "print(\"PCA with 75% explained time: {:.5}\".format(d-c))\n",
        "print(\"Norm difference for PCA with 75% explained: {:.5}\".format(np.abs(FS-F3)))\n",
        "print(\"PCA with 50% explained time: {:.5}\".format(e-d))\n",
        "print(\"Norm difference for PCA with 50% explained: {:.5}\".format(np.abs(FS-F4)))\n",
        "x = np.array([b-a, c-b, d-c, e-d])\n",
        "y = np.array([np.abs(FS-F1),np.abs(FS-F2), np.abs(FS-F3),np.abs(FS-F4)])\n",
        "plt.scatter(x[0], y[0], label=\"Direct Simulation\")\n",
        "plt.scatter(x[1], y[1], label=\"PCA with 100%\")\n",
        "plt.scatter(x[2], y[2], label=\"PCA with 75%\")\n",
        "plt.scatter(x[3], y[3], label=\"PCA with 50%\")\n",
        "plt.xlabel(\"Time span\")\n",
        "plt.ylabel(\"Accuracy difference\")\n",
        "plt.legend()\n",
        "plt.show()"
      ],
      "metadata": {
        "id": "3qFoTtz1mWo-",
        "colab": {
          "base_uri": "https://localhost:8080/",
          "height": 470
        },
        "outputId": "66564c26-29c3-4890-d163-7ccc30d8a9c5"
      },
      "execution_count": null,
      "outputs": [
        {
          "output_type": "stream",
          "name": "stdout",
          "text": [
            "Simulating with 59 PC Factors: 100.00 % total variance explained\n",
            "Simulating with 10 PC Factors: 75.97 % total variance explained\n",
            "Simulating with 5 PC Factors: 54.46 % total variance explained\n",
            "Direct Simulation time: 0.13825\n",
            "Norm difference for direct simulation: 0.0016417\n",
            "PCA with 100% explained time: 0.25493\n",
            "Norm difference for PCA with 100% explained: 0.0016174\n",
            "PCA with 75% explained time: 0.14305\n",
            "Norm difference for PCA with 75% explained: 0.0017779\n",
            "PCA with 50% explained time: 0.14336\n",
            "Norm difference for PCA with 50% explained: 0.002522\n"
          ]
        },
        {
          "output_type": "display_data",
          "data": {
            "text/plain": [
              "<Figure size 432x288 with 1 Axes>"
            ],
            "image/png": "[encoded data removed]"
          },
          "metadata": {
            "needs_background": "light"
          }
        }
      ]
    },
    {
      "cell_type": "code",
      "source": [],
      "metadata": {
        "id": "4f7_SZHymNib"
      },
      "execution_count": null,
      "outputs": []
    }
  ],
  "metadata": {
    "colab": {
      "provenance": []
    },
    "kernelspec": {
      "display_name": "Python 3",
      "name": "python3"
    },
    "language_info": {
      "name": "python"
    }
  },
  "nbformat": 4,
  "nbformat_minor": 0
}